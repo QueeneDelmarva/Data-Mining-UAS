{
 "cells": [
  {
   "cell_type": "code",
   "execution_count": 1,
   "id": "94541524",
   "metadata": {},
   "outputs": [],
   "source": [
    "# Importing Libraries \n",
    "import numpy as np # linear algebra\n",
    "import pandas as pd # data processing, CSV file I/O (e.g. pd.read_csv)\n",
    "import matplotlib.pyplot as plt # for data visualization\n",
    "import seaborn as sns # for statistical data visualization\n",
    "%matplotlib inline\n",
    "\n",
    "# Saving result output \n",
    "import os\n",
    "for dirname, _, filenames in os.walk('/K_Means_Clustering/input'):\n",
    "    for filename in filenames:\n",
    "        print(os.path.join(dirname, filename))"
   ]
  },
  {
   "cell_type": "code",
   "execution_count": 27,
   "id": "50b4bf86",
   "metadata": {},
   "outputs": [
    {
     "data": {
      "text/html": [
       "<div>\n",
       "<style scoped>\n",
       "    .dataframe tbody tr th:only-of-type {\n",
       "        vertical-align: middle;\n",
       "    }\n",
       "\n",
       "    .dataframe tbody tr th {\n",
       "        vertical-align: top;\n",
       "    }\n",
       "\n",
       "    .dataframe thead th {\n",
       "        text-align: right;\n",
       "    }\n",
       "</style>\n",
       "<table border=\"1\" class=\"dataframe\">\n",
       "  <thead>\n",
       "    <tr style=\"text-align: right;\">\n",
       "      <th></th>\n",
       "      <th>A00,0,A000,\"Cholera due to Vibrio cholerae 01, biovar cholerae\",\"Cholera due to Vibrio cholerae 01, biovar cholerae\",\"Cholera\"</th>\n",
       "    </tr>\n",
       "  </thead>\n",
       "  <tbody>\n",
       "    <tr>\n",
       "      <th>0</th>\n",
       "      <td>A00,1,A001,\"Cholera due to Vibrio cholerae 01,...</td>\n",
       "    </tr>\n",
       "    <tr>\n",
       "      <th>1</th>\n",
       "      <td>A00,9,A009,\"Cholera, unspecified\",\"Cholera, un...</td>\n",
       "    </tr>\n",
       "    <tr>\n",
       "      <th>2</th>\n",
       "      <td>A010,0,A0100,\"Typhoid fever, unspecified\",\"Typ...</td>\n",
       "    </tr>\n",
       "    <tr>\n",
       "      <th>3</th>\n",
       "      <td>A010,1,A0101,\"Typhoid meningitis\",\"Typhoid men...</td>\n",
       "    </tr>\n",
       "    <tr>\n",
       "      <th>4</th>\n",
       "      <td>A010,2,A0102,\"Typhoid fever with heart involve...</td>\n",
       "    </tr>\n",
       "  </tbody>\n",
       "</table>\n",
       "</div>"
      ],
      "text/plain": [
       "  A00,0,A000,\"Cholera due to Vibrio cholerae 01, biovar cholerae\",\"Cholera due to Vibrio cholerae 01, biovar cholerae\",\"Cholera\"\n",
       "0  A00,1,A001,\"Cholera due to Vibrio cholerae 01,...                                                                            \n",
       "1  A00,9,A009,\"Cholera, unspecified\",\"Cholera, un...                                                                            \n",
       "2  A010,0,A0100,\"Typhoid fever, unspecified\",\"Typ...                                                                            \n",
       "3  A010,1,A0101,\"Typhoid meningitis\",\"Typhoid men...                                                                            \n",
       "4  A010,2,A0102,\"Typhoid fever with heart involve...                                                                            "
      ]
     },
     "execution_count": 27,
     "metadata": {},
     "output_type": "execute_result"
    }
   ],
   "source": [
    "# Importing Datasets\n",
    "df = pd.read_csv(\"/Users/queene/Desktop/DM_UAS/Question_One/Dataset.csv\", sep=';', header=0)\n",
    "\n",
    "df.head()"
   ]
  },
  {
   "cell_type": "code",
   "execution_count": 28,
   "id": "cc22d008",
   "metadata": {},
   "outputs": [
    {
     "data": {
      "text/plain": [
       "(71703, 1)"
      ]
     },
     "execution_count": 28,
     "metadata": {},
     "output_type": "execute_result"
    }
   ],
   "source": [
    "df.shape"
   ]
  },
  {
   "cell_type": "code",
   "execution_count": 29,
   "id": "60b88886",
   "metadata": {},
   "outputs": [
    {
     "name": "stdout",
     "output_type": "stream",
     "text": [
      "<class 'pandas.core.frame.DataFrame'>\n",
      "RangeIndex: 71703 entries, 0 to 71702\n",
      "Data columns (total 1 columns):\n",
      " #   Column                                                                                                                          Non-Null Count  Dtype \n",
      "---  ------                                                                                                                          --------------  ----- \n",
      " 0   A00,0,A000,\"Cholera due to Vibrio cholerae 01, biovar cholerae\",\"Cholera due to Vibrio cholerae 01, biovar cholerae\",\"Cholera\"  71703 non-null  object\n",
      "dtypes: object(1)\n",
      "memory usage: 560.3+ KB\n"
     ]
    }
   ],
   "source": [
    "df.info()"
   ]
  },
  {
   "cell_type": "code",
   "execution_count": 31,
   "id": "ecfc12de",
   "metadata": {},
   "outputs": [
    {
     "data": {
      "text/plain": [
       "Index(['A00,0,A000,\"Cholera due to Vibrio cholerae 01, biovar cholerae\",\"Cholera due to Vibrio cholerae 01, biovar cholerae\",\"Cholera\"'], dtype='object')"
      ]
     },
     "execution_count": 31,
     "metadata": {},
     "output_type": "execute_result"
    }
   ],
   "source": [
    "df.columns"
   ]
  },
  {
   "cell_type": "code",
   "execution_count": 33,
   "id": "298f1c53",
   "metadata": {},
   "outputs": [
    {
     "data": {
      "text/html": [
       "<div>\n",
       "<style scoped>\n",
       "    .dataframe tbody tr th:only-of-type {\n",
       "        vertical-align: middle;\n",
       "    }\n",
       "\n",
       "    .dataframe tbody tr th {\n",
       "        vertical-align: top;\n",
       "    }\n",
       "\n",
       "    .dataframe thead th {\n",
       "        text-align: right;\n",
       "    }\n",
       "</style>\n",
       "<table border=\"1\" class=\"dataframe\">\n",
       "  <thead>\n",
       "    <tr style=\"text-align: right;\">\n",
       "      <th></th>\n",
       "      <th>A00,0,A000,\"Cholera due to Vibrio cholerae 01, biovar cholerae\",\"Cholera due to Vibrio cholerae 01, biovar cholerae\",\"Cholera\"</th>\n",
       "    </tr>\n",
       "  </thead>\n",
       "  <tbody>\n",
       "    <tr>\n",
       "      <th>count</th>\n",
       "      <td>71703</td>\n",
       "    </tr>\n",
       "    <tr>\n",
       "      <th>unique</th>\n",
       "      <td>71703</td>\n",
       "    </tr>\n",
       "    <tr>\n",
       "      <th>top</th>\n",
       "      <td>A00,1,A001,\"Cholera due to Vibrio cholerae 01,...</td>\n",
       "    </tr>\n",
       "    <tr>\n",
       "      <th>freq</th>\n",
       "      <td>1</td>\n",
       "    </tr>\n",
       "  </tbody>\n",
       "</table>\n",
       "</div>"
      ],
      "text/plain": [
       "       A00,0,A000,\"Cholera due to Vibrio cholerae 01, biovar cholerae\",\"Cholera due to Vibrio cholerae 01, biovar cholerae\",\"Cholera\"\n",
       "count                                               71703                                                                            \n",
       "unique                                              71703                                                                            \n",
       "top     A00,1,A001,\"Cholera due to Vibrio cholerae 01,...                                                                            \n",
       "freq                                                    1                                                                            "
      ]
     },
     "execution_count": 33,
     "metadata": {},
     "output_type": "execute_result"
    }
   ],
   "source": [
    "df.describe()"
   ]
  },
  {
   "cell_type": "code",
   "execution_count": null,
   "id": "09ce4b0a",
   "metadata": {},
   "outputs": [],
   "source": []
  }
 ],
 "metadata": {
  "kernelspec": {
   "display_name": "Python 3.9.7 ('base')",
   "language": "python",
   "name": "python397jvsc74a57bd08c87408ab53cc86912c457f77faac2807dcf1a3921fd073af712b7fe1df891e2"
  },
  "language_info": {
   "codemirror_mode": {
    "name": "ipython",
    "version": 3
   },
   "file_extension": ".py",
   "mimetype": "text/x-python",
   "name": "python",
   "nbconvert_exporter": "python",
   "pygments_lexer": "ipython3",
   "version": "3.9.7"
  }
 },
 "nbformat": 4,
 "nbformat_minor": 5
}
